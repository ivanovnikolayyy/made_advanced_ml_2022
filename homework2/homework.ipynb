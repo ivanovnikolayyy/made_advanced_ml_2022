{
 "cells": [
  {
   "cell_type": "markdown",
   "id": "56dfc8e6",
   "metadata": {},
   "source": [
    "# Продвинутое машинное обучение: Домашнее задание 2\n",
    "\n",
    "Второе домашнее задание — самое большое в курсе, в нём придётся и концептуально подумать о происходящем, и технические трудности тоже порешать. Это полноценный проект по анализу данных, начиная от анализа постановки задачи и заканчивая сравнением результатов разных моделей. Задача реальная и серьёзная, хотя тему я выбрал развлекательную: мы будем строить <b>вероятностную рейтинг-систему для спортивного “Что? Где? Когда?” (ЧГК).</b>\n",
    "\n",
    "<b>Background:</b> в спортивном “Что? Где? Когда?” соревнующиеся команды отвечают на одни и те же вопросы. После минуты обсуждения команды записывают и сдают свои ответы на карточках; побеждает тот, кто ответил на большее число вопросов. Турнир обычно состоит из нескольких десятков вопросов (обычно 36 или 45, иногда 60, больше редко). Часто бывают синхронные турниры, когда на одни и те же вопросы отвечают команды на сотнях игровых площадок по всему миру, т.е. в одном турнире могут играть сотни, а то и тысячи команд. Соответственно, нам нужно:\n",
    "- построить рейтинг-лист, который способен нетривиально предсказывать результаты будущих турниров;\n",
    "- при этом, поскольку ЧГК — это хобби, и контрактов тут никаких нет, игроки постоянно переходят из команды в команду, сильный игрок может на один турнир сесть поиграть за другую команду и т.д.; поэтому единицей рейтинг-листа должна быть не команда, а отдельный игрок;\n",
    "- а что сильно упрощает задачу и переводит её в область домашних заданий на EM-алгоритм — это характер данных: начиная с какого-то момента, в базу результатов начали вносить все повопросные результаты команд, т.е. в данных будут записи вида “какая команда на какой вопрос правильно ответила”."
   ]
  },
  {
   "cell_type": "markdown",
   "id": "b638cc6f",
   "metadata": {},
   "source": [
    "## 0. Imports"
   ]
  },
  {
   "cell_type": "code",
   "execution_count": 77,
   "id": "6508463e",
   "metadata": {},
   "outputs": [],
   "source": [
    "import pickle\n",
    "import pandas as pd\n",
    "import numpy as np\n",
    "import logging\n",
    "from typing import Any, Dict, Optional, List\n",
    "from collections import defaultdict\n",
    "from tqdm import tqdm\n",
    "\n",
    "from scipy.stats import kendalltau, spearmanr\n",
    "\n",
    "logger = logging.getLogger()\n",
    "logger.setLevel(logging.INFO)"
   ]
  },
  {
   "cell_type": "markdown",
   "id": "f3af2b90",
   "metadata": {},
   "source": [
    "## 1. EDA\n",
    "Прочитайте и проанализируйте данные, выберите турниры, в которых есть данные о\n",
    "составах команд и повопросных результатах (поле mask в results.pkl). Для унификации\n",
    "предлаестся:\n",
    "- взять в тренировочный набор турниры с dateStart из 2019 года;\n",
    "- в тестовый — турниры с dateStart из 2020 года."
   ]
  },
  {
   "cell_type": "code",
   "execution_count": 2,
   "id": "ae2de608",
   "metadata": {},
   "outputs": [
    {
     "name": "stdout",
     "output_type": "stream",
     "text": [
      "filtered_results.csv  players.pkl  results.pkl\ttournaments.pkl\r\n"
     ]
    }
   ],
   "source": [
    "!ls data"
   ]
  },
  {
   "cell_type": "code",
   "execution_count": 3,
   "id": "8e0dab22",
   "metadata": {},
   "outputs": [],
   "source": [
    "PLAYERS_PATH = \"data/players.pkl\"\n",
    "RESULTS_PATH = \"data/results.pkl\"\n",
    "TOURNAMENTS_PATH = \"data/tournaments.pkl\"\n",
    "\n",
    "DATE_START = \"2019-01-01\"\n",
    "DATE_END = \"2021-01-01\"\n",
    "\n",
    "MAX_TEAM_SIZE = 6\n",
    "\n",
    "\n",
    "def pickle_load(data_path: str) -> Optional[Any]:\n",
    "    with open(data_path, \"rb\") as fin:\n",
    "        data = pickle.load(fin)\n",
    "    return data\n",
    "\n",
    "\n",
    "def load_players(data_path: str = PLAYERS_PATH) -> pd.DataFrame:    \n",
    "    logging.info('Loading players data ...')\n",
    "    data = pickle_load(data_path)\n",
    "    df = pd.DataFrame.from_dict(data, orient=\"index\").set_index('id')\n",
    "    logging.info('Done')\n",
    "    \n",
    "    return df\n",
    "\n",
    "\n",
    "def load_tournaments(data_path: str = TOURNAMENTS_PATH) -> pd.DataFrame:\n",
    "    logging.info('Loading tournaments data ...')\n",
    "    data = pickle_load(data_path)\n",
    "    df = pd.DataFrame.from_dict(data, orient=\"index\").set_index('id')\n",
    "    \n",
    "    df[[\"type_id\", \"type_name\"]] = df[\"type\"].apply(lambda x: list(x.values())).tolist()\n",
    "    df[\"season\"] = df[\"season\"].apply(lambda x: x.split(\"/\")[-1] if x else None)\n",
    "    \n",
    "    drop_columns = [\"type\", \"questionQty\", \"orgcommittee\", \"synchData\"]\n",
    "    df = df.drop(columns=drop_columns)\n",
    "    logging.info('Done')\n",
    "\n",
    "    return df\n",
    "\n",
    "\n",
    "def preprocess_results(results: Dict, start_id: int = 0) -> pd.DataFrame:\n",
    "    data = []\n",
    "    \n",
    "    for tournament_id, tournament_data in tqdm(results.items()):\n",
    "        questions_count = 0\n",
    "        \n",
    "        for team_data in tournament_data:\n",
    "            if team_data.get(\"mask\"):\n",
    "                questions_count = len(team_data[\"mask\"])\n",
    "                question_ids = list(range(start_id, start_id + questions_count))\n",
    "                \n",
    "                data.append({\n",
    "                    \"tournament_id\": tournament_id,\n",
    "                    \"team_id\": team_data[\"team\"][\"id\"],\n",
    "                    \"answered\": [int(x) for x in team_data[\"mask\"].replace(\"X\", \"0\").replace(\"?\", \"0\")],\n",
    "                    \"question_id\": question_ids,\n",
    "                    \"player_id\": [player[\"player\"][\"id\"] for player in team_data[\"teamMembers\"]],\n",
    "                })\n",
    "        \n",
    "        start_id += questions_count\n",
    "    \n",
    "    df = pd.DataFrame.from_records(data)\n",
    "\n",
    "    df = df.explode(\"player_id\", ignore_index=True).apply(\n",
    "        lambda x: x.explode() if x.name in (\"answered\", \"question_id\") else x\n",
    "    )\n",
    "\n",
    "    return df\n",
    "\n",
    "\n",
    "def load_results(data_path: str = RESULTS_PATH, train_ids: List[int] = [], test_ids: List[int] = []) -> Dict:\n",
    "    logging.info('Loading results data ...')\n",
    "\n",
    "    data = pickle_load(data_path)\n",
    "    \n",
    "    train = {key: data[key] for key in train_ids}\n",
    "    test = {key: data[key] for key in test_ids}\n",
    "    \n",
    "    del data\n",
    "    \n",
    "    train_df = preprocess_results(train, start_id = 0)\n",
    "    test_df = preprocess_results(test, start_id = train_df[\"question_id\"].max() + 1)\n",
    "    \n",
    "    logging.info('Done')\n",
    "    \n",
    "    return train_df, test_df"
   ]
  },
  {
   "cell_type": "code",
   "execution_count": 4,
   "id": "31532d82",
   "metadata": {
    "scrolled": false
   },
   "outputs": [
    {
     "name": "stderr",
     "output_type": "stream",
     "text": [
      "INFO:root:Loading players data ...\n",
      "INFO:root:Done\n",
      "INFO:root:Loading tournaments data ...\n",
      "INFO:root:Done\n"
     ]
    }
   ],
   "source": [
    "players = load_players()\n",
    "tournaments = load_tournaments()"
   ]
  },
  {
   "cell_type": "code",
   "execution_count": 5,
   "id": "a88caa27",
   "metadata": {
    "scrolled": false
   },
   "outputs": [
    {
     "name": "stderr",
     "output_type": "stream",
     "text": [
      "INFO:root:Loading results data ...\n",
      "100%|██████████| 687/687 [00:00<00:00, 971.05it/s] \n",
      "100%|██████████| 418/418 [00:00<00:00, 2162.31it/s]\n",
      "INFO:root:Done\n"
     ]
    }
   ],
   "source": [
    "train_ids = tournaments[tournaments.dateStart.between(\"2019-01-01\", \"2020-01-01\")].index.tolist()\n",
    "test_ids = tournaments[tournaments.dateStart.between(\"2020-01-01\", \"2021-01-01\")].index.tolist()\n",
    "\n",
    "train, test = load_results(train_ids=train_ids, test_ids=test_ids)"
   ]
  },
  {
   "cell_type": "code",
   "execution_count": 7,
   "id": "da9a2a77",
   "metadata": {
    "scrolled": true
   },
   "outputs": [],
   "source": [
    "# Выкинем вопросы, на которые не ответила ни одна команда, либо ответили все\n",
    "\n",
    "no_answers_questions = np.where(train.groupby(\"question_id\").apply(lambda item: not any(item[\"answered\"])))[0]\n",
    "all_answers_questions = np.where(train.groupby(\"question_id\").apply(lambda item: all(item[\"answered\"])))[0]"
   ]
  },
  {
   "cell_type": "code",
   "execution_count": 8,
   "id": "ddfff23a",
   "metadata": {},
   "outputs": [
    {
     "data": {
      "text/plain": [
       "(1786, 741)"
      ]
     },
     "execution_count": 8,
     "metadata": {},
     "output_type": "execute_result"
    }
   ],
   "source": [
    "no_answers_questions.shape[0], all_answers_questions.shape[0]"
   ]
  },
  {
   "cell_type": "code",
   "execution_count": 9,
   "id": "502632ea",
   "metadata": {},
   "outputs": [],
   "source": [
    "train = train[\n",
    "    ~train[\"question_id\"].isin(no_answers_questions) &\n",
    "    ~train[\"question_id\"].isin(all_answers_questions)\n",
    "]\n",
    "\n",
    "test = test[\n",
    "    ~test[\"question_id\"].isin(no_answers_questions) &\n",
    "    ~test[\"question_id\"].isin(all_answers_questions)\n",
    "]"
   ]
  },
  {
   "cell_type": "code",
   "execution_count": 10,
   "id": "c52e25e3",
   "metadata": {},
   "outputs": [
    {
     "data": {
      "text/plain": [
       "((20649927, 5), (4484167, 5))"
      ]
     },
     "execution_count": 10,
     "metadata": {},
     "output_type": "execute_result"
    }
   ],
   "source": [
    "train.shape, test.shape"
   ]
  },
  {
   "cell_type": "code",
   "execution_count": 11,
   "id": "1c6d24e7",
   "metadata": {},
   "outputs": [
    {
     "name": "stdout",
     "output_type": "stream",
     "text": [
      "Количество турниров: 672\n",
      "Количество игоков: 59097\n",
      "Количество вопросов: 29576\n"
     ]
    }
   ],
   "source": [
    "print(f\"Количество турниров: {train.tournament_id.nunique()}\")\n",
    "print(f\"Количество игоков: {train.player_id.nunique()}\")\n",
    "print(f\"Количество вопросов: {train.question_id.nunique()}\")"
   ]
  },
  {
   "cell_type": "markdown",
   "id": "916716de",
   "metadata": {},
   "source": [
    "## 2. Baseline\n",
    "Постройте baseline-модель на основе линейной или логистической регрессии, которая будет обучать рейтинг-лист игроков. Замечания и подсказки:\n",
    "- повопросные результаты — это фактически результаты броска монетки, и их предсказание скорее всего имеет отношение к бинарной классификации;\n",
    "- в разных турнирах вопросы совсем разного уровня сложности, поэтому модель должна это учитывать; скорее всего, модель должна будет явно обучать не только силу каждого игрока, но и сложность каждого вопроса;\n",
    "- для baseline-модели можно забыть о командах и считать, что повопросные результаты команды просто относятся к каждому из её игроков."
   ]
  },
  {
   "cell_type": "markdown",
   "id": "d11ce1c0",
   "metadata": {},
   "source": [
    "Сделаем ряд допущений, которые позволят нам упростить вычисления:\n",
    "- Заменим пропуски в ответах (\"?\" или \"X\") на \"0\"\n",
    "- Не будем использовать вопросы, на которые правильно ответили все команды в турнире, либо ни одна команда не ответила правильно, так как эта информация не поможет нам сравнить команды\n",
    "- Пусть для игрока с сильой $s_i$ (skill) и сложности вопроса $q_j$ вероятность правильно ответить на этот вопрос равна $p_{ij}$, которая не зависит от силы сокомандников этого игрока, тогда будем обучать логистическую регрессию:\n",
    "\n",
    "$$\\sigma(s_i + q_j) = p_{ij}$$"
   ]
  },
  {
   "cell_type": "code",
   "execution_count": 12,
   "id": "5567d16c",
   "metadata": {},
   "outputs": [],
   "source": [
    "from sklearn.preprocessing import OneHotEncoder\n",
    "\n",
    "encoder = OneHotEncoder()\n",
    "x_trian = encoder.fit_transform(train[[\"player_id\", \"question_id\"]])\n",
    "y_train = train[[\"answered\"]].values.astype(int)"
   ]
  },
  {
   "cell_type": "code",
   "execution_count": 13,
   "id": "9c2e1418",
   "metadata": {},
   "outputs": [
    {
     "name": "stderr",
     "output_type": "stream",
     "text": [
      "/home/nikolay/anaconda3/envs/ml-mipt/lib/python3.8/site-packages/sklearn/utils/validation.py:63: DataConversionWarning: A column-vector y was passed when a 1d array was expected. Please change the shape of y to (n_samples, ), for example using ravel().\n",
      "  return f(*args, **kwargs)\n"
     ]
    },
    {
     "data": {
      "text/plain": [
       "LogisticRegression(fit_intercept=False, max_iter=500, random_state=42)"
      ]
     },
     "execution_count": 13,
     "metadata": {},
     "output_type": "execute_result"
    }
   ],
   "source": [
    "from sklearn.linear_model import LogisticRegression\n",
    "\n",
    "clf = LogisticRegression(fit_intercept=False, random_state=42, max_iter=500)\n",
    "clf.fit(x_trian, y_train)"
   ]
  },
  {
   "cell_type": "code",
   "execution_count": 14,
   "id": "50a07aba",
   "metadata": {},
   "outputs": [],
   "source": [
    "ratings = pd.Series({\n",
    "    player_id: clf.coef_[0][i] for i, player_id in enumerate(encoder.categories_[0])\n",
    "})"
   ]
  },
  {
   "cell_type": "code",
   "execution_count": 15,
   "id": "46e00385",
   "metadata": {},
   "outputs": [],
   "source": [
    "player_id = players[\n",
    "    (players[\"name\"] == \"Юлия\") &\n",
    "    (players[\"patronymic\"] == \"Валерьевна\") &\n",
    "    (players[\"surname\"] == \"Лазарева\")\n",
    "].index[0]"
   ]
  },
  {
   "cell_type": "code",
   "execution_count": 16,
   "id": "4b48734b",
   "metadata": {},
   "outputs": [
    {
     "data": {
      "text/plain": [
       "0.009611154353785237"
      ]
     },
     "execution_count": 16,
     "metadata": {},
     "output_type": "execute_result"
    }
   ],
   "source": [
    "# Доля игроков, рейтинг которых больше чем у Лазаревой Юлии Валерьевной\n",
    "(ratings >= ratings[player_id]).mean()"
   ]
  },
  {
   "cell_type": "code",
   "execution_count": 17,
   "id": "e0d96b90",
   "metadata": {},
   "outputs": [
    {
     "data": {
      "text/plain": [
       "name              Максим\n",
       "patronymic    Михайлович\n",
       "surname            Руссо\n",
       "Name: 27403, dtype: object"
      ]
     },
     "execution_count": 17,
     "metadata": {},
     "output_type": "execute_result"
    }
   ],
   "source": [
    "# Игрок с максимильным рейтингом\n",
    "players.loc[ratings.idxmax()]"
   ]
  },
  {
   "cell_type": "markdown",
   "id": "72bcf39e",
   "metadata": {},
   "source": [
    "## 3. Predict\n",
    "\n",
    "Качество рейтинг-системы оценивается качеством предсказаний результатов турниров. Но сами повопросные результаты наши модели предсказывать вряд ли смогут, ведь неизвестно, насколько сложными окажутся вопросы в будущих турнирах; да и не нужны эти предсказания сами по себе. Поэтому\n",
    "- предложите способ предсказать результаты нового турнира с известными составами, но неизвестными вопросами, в виде ранжирования команд;\n",
    "- в качестве метрики качества на тестовом наборе давайте считать ранговые корреляции Спирмена и Кендалла (их можно взять в пакете scipy) между реальным ранжированием в результатах турнира и предсказанным моделью, усреднённые по тестовому множеству турниров 1 ."
   ]
  },
  {
   "cell_type": "markdown",
   "id": "167fe596",
   "metadata": {},
   "source": [
    "Пусть команда дала неправильный ответ в случае, когда ни один из ее участников не дал правильный ответ:\n",
    "\n",
    "$$P(S) = 1 - \\prod_{s \\in S} (1 - P(s)) $$\n",
    "\n",
    "где s - участники команы S. Также для упрощение вычислений возьмем для каждой команды ее лучших 6 игроков"
   ]
  },
  {
   "cell_type": "code",
   "execution_count": 62,
   "id": "f9f2616b",
   "metadata": {},
   "outputs": [],
   "source": [
    "teams = train.groupby(\"team_id\").apply(lambda item: item[\"player_id\"].unique())"
   ]
  },
  {
   "cell_type": "code",
   "execution_count": 65,
   "id": "d1d5cf56",
   "metadata": {},
   "outputs": [],
   "source": [
    "MAX_PLAYERS = 6\n",
    "\n",
    "team_ratings = dict()\n",
    "\n",
    "for team_id in teams.index.values:\n",
    "    players_ratings = [ratings[player_id] for player_id in teams.loc[team_id]]\n",
    "    top_players = players_ratings[:min(MAX_PLAYERS, len(players_ratings))]\n",
    "\n",
    "    proba = 1 - np.prod([1 - player for player in top_players])\n",
    "    team_ratings[team_id] = proba"
   ]
  },
  {
   "cell_type": "code",
   "execution_count": 67,
   "id": "c75ba12f",
   "metadata": {},
   "outputs": [],
   "source": [
    "teams_ratings = pd.Series(team_ratings)"
   ]
  },
  {
   "cell_type": "code",
   "execution_count": 78,
   "id": "c6be6e66",
   "metadata": {},
   "outputs": [
    {
     "data": {
      "text/html": [
       "<div>\n",
       "<style scoped>\n",
       "    .dataframe tbody tr th:only-of-type {\n",
       "        vertical-align: middle;\n",
       "    }\n",
       "\n",
       "    .dataframe tbody tr th {\n",
       "        vertical-align: top;\n",
       "    }\n",
       "\n",
       "    .dataframe thead th {\n",
       "        text-align: right;\n",
       "    }\n",
       "</style>\n",
       "<table border=\"1\" class=\"dataframe\">\n",
       "  <thead>\n",
       "    <tr style=\"text-align: right;\">\n",
       "      <th></th>\n",
       "      <th>tournament_id</th>\n",
       "      <th>team_id</th>\n",
       "      <th>answered</th>\n",
       "      <th>question_id</th>\n",
       "      <th>player_id</th>\n",
       "    </tr>\n",
       "  </thead>\n",
       "  <tbody>\n",
       "    <tr>\n",
       "      <th>0</th>\n",
       "      <td>4957</td>\n",
       "      <td>49804</td>\n",
       "      <td>1</td>\n",
       "      <td>32103</td>\n",
       "      <td>30152</td>\n",
       "    </tr>\n",
       "    <tr>\n",
       "      <th>0</th>\n",
       "      <td>4957</td>\n",
       "      <td>49804</td>\n",
       "      <td>1</td>\n",
       "      <td>32104</td>\n",
       "      <td>30152</td>\n",
       "    </tr>\n",
       "    <tr>\n",
       "      <th>0</th>\n",
       "      <td>4957</td>\n",
       "      <td>49804</td>\n",
       "      <td>1</td>\n",
       "      <td>32105</td>\n",
       "      <td>30152</td>\n",
       "    </tr>\n",
       "    <tr>\n",
       "      <th>0</th>\n",
       "      <td>4957</td>\n",
       "      <td>49804</td>\n",
       "      <td>1</td>\n",
       "      <td>32106</td>\n",
       "      <td>30152</td>\n",
       "    </tr>\n",
       "    <tr>\n",
       "      <th>0</th>\n",
       "      <td>4957</td>\n",
       "      <td>49804</td>\n",
       "      <td>1</td>\n",
       "      <td>32107</td>\n",
       "      <td>30152</td>\n",
       "    </tr>\n",
       "    <tr>\n",
       "      <th>...</th>\n",
       "      <td>...</td>\n",
       "      <td>...</td>\n",
       "      <td>...</td>\n",
       "      <td>...</td>\n",
       "      <td>...</td>\n",
       "    </tr>\n",
       "    <tr>\n",
       "      <th>112869</th>\n",
       "      <td>6456</td>\n",
       "      <td>63129</td>\n",
       "      <td>0</td>\n",
       "      <td>39730</td>\n",
       "      <td>224329</td>\n",
       "    </tr>\n",
       "    <tr>\n",
       "      <th>112869</th>\n",
       "      <td>6456</td>\n",
       "      <td>63129</td>\n",
       "      <td>0</td>\n",
       "      <td>39731</td>\n",
       "      <td>224329</td>\n",
       "    </tr>\n",
       "    <tr>\n",
       "      <th>112869</th>\n",
       "      <td>6456</td>\n",
       "      <td>63129</td>\n",
       "      <td>0</td>\n",
       "      <td>39732</td>\n",
       "      <td>224329</td>\n",
       "    </tr>\n",
       "    <tr>\n",
       "      <th>112869</th>\n",
       "      <td>6456</td>\n",
       "      <td>63129</td>\n",
       "      <td>0</td>\n",
       "      <td>39733</td>\n",
       "      <td>224329</td>\n",
       "    </tr>\n",
       "    <tr>\n",
       "      <th>112869</th>\n",
       "      <td>6456</td>\n",
       "      <td>63129</td>\n",
       "      <td>1</td>\n",
       "      <td>39734</td>\n",
       "      <td>224329</td>\n",
       "    </tr>\n",
       "  </tbody>\n",
       "</table>\n",
       "<p>4484167 rows × 5 columns</p>\n",
       "</div>"
      ],
      "text/plain": [
       "        tournament_id  team_id answered question_id player_id\n",
       "0                4957    49804        1       32103     30152\n",
       "0                4957    49804        1       32104     30152\n",
       "0                4957    49804        1       32105     30152\n",
       "0                4957    49804        1       32106     30152\n",
       "0                4957    49804        1       32107     30152\n",
       "...               ...      ...      ...         ...       ...\n",
       "112869           6456    63129        0       39730    224329\n",
       "112869           6456    63129        0       39731    224329\n",
       "112869           6456    63129        0       39732    224329\n",
       "112869           6456    63129        0       39733    224329\n",
       "112869           6456    63129        1       39734    224329\n",
       "\n",
       "[4484167 rows x 5 columns]"
      ]
     },
     "execution_count": 78,
     "metadata": {},
     "output_type": "execute_result"
    }
   ],
   "source": [
    "test"
   ]
  },
  {
   "cell_type": "code",
   "execution_count": 71,
   "id": "22828b7a",
   "metadata": {},
   "outputs": [
    {
     "data": {
      "text/plain": [
       "27001   -7440.008185\n",
       "75377   -6926.691450\n",
       "75697   -6925.100885\n",
       "75685   -6925.100885\n",
       "74126   -6776.303078\n",
       "            ...     \n",
       "64781      14.686905\n",
       "53702      15.209546\n",
       "70939      19.220228\n",
       "71968      38.214198\n",
       "55837      39.584108\n",
       "Length: 11739, dtype: float64"
      ]
     },
     "execution_count": 71,
     "metadata": {},
     "output_type": "execute_result"
    }
   ],
   "source": [
    "teams_ratings.sort_values()"
   ]
  },
  {
   "cell_type": "code",
   "execution_count": null,
   "id": "41c28215",
   "metadata": {},
   "outputs": [],
   "source": [
    "# TODO: add more methods and metrics"
   ]
  },
  {
   "cell_type": "markdown",
   "id": "0d4e50a2",
   "metadata": {},
   "source": [
    "## 4. Aggregate\n",
    "\n",
    "Теперь главное: ЧГК — это всё-таки командная игра. Поэтому:\n",
    "- предложите способ учитывать то, что на вопрос отвечают сразу несколько игроков; скорее всего, понадобятся скрытые переменные; не стесняйтесь делать упрощающие предположения, но теперь переменные “игрок X ответил на вопрос Y” при условии данных должны стать зависимыми для игроков одной и той же команды;\n",
    "- разработайте EM-схему для обучения этой модели, реализуйте её в коде;\n",
    "- обучите несколько итераций, убедитесь, что целевые метрики со временем растут (скорее всего, ненамного, но расти должны), выберите лучшую модель, используя целевые метрики."
   ]
  },
  {
   "cell_type": "code",
   "execution_count": null,
   "id": "0d437979",
   "metadata": {},
   "outputs": [],
   "source": [
    "# TODO"
   ]
  },
  {
   "cell_type": "markdown",
   "id": "1ddc28f1",
   "metadata": {},
   "source": [
    "## 5. Rating\n",
    "\n",
    "А что там с вопросами? Постройте “рейтинг-лист” турниров по сложности вопросов. Соответствует ли он интуиции (например, на чемпионате мира в целом должны быть сложные вопросы, а на турнирах для школьников — простые)? Если будет интересно: постройте топ сложных и простых вопросов со ссылками на конкретные записи в базе вопросов ЧГК https://db.chgk.info/ (это чисто техническое дело, тут никакого ML нету)."
   ]
  },
  {
   "cell_type": "code",
   "execution_count": null,
   "id": "5fce0f40",
   "metadata": {},
   "outputs": [],
   "source": [
    "# TODO"
   ]
  }
 ],
 "metadata": {
  "kernelspec": {
   "display_name": "ml-mipt",
   "language": "python",
   "name": "ml-mipt"
  },
  "language_info": {
   "codemirror_mode": {
    "name": "ipython",
    "version": 3
   },
   "file_extension": ".py",
   "mimetype": "text/x-python",
   "name": "python",
   "nbconvert_exporter": "python",
   "pygments_lexer": "ipython3",
   "version": "3.8.12"
  }
 },
 "nbformat": 4,
 "nbformat_minor": 5
}
